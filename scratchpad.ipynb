{
 "cells": [
  {
   "cell_type": "code",
   "execution_count": null,
   "metadata": {
    "ExecuteTime": {
     "end_time": "2019-06-07T00:01:26.185163Z",
     "start_time": "2019-06-07T00:01:26.178168Z"
    }
   },
   "outputs": [],
   "source": [
    "print('hello world!')"
   ]
  },
  {
   "cell_type": "markdown",
   "metadata": {},
   "source": [
    "So it's the same python we've already seen except we control the order."
   ]
  },
  {
   "cell_type": "markdown",
   "metadata": {
    "ExecuteTime": {
     "end_time": "2019-06-06T23:07:03.841264Z",
     "start_time": "2019-06-06T23:07:03.835267Z"
    }
   },
   "source": [
    "## Help when you need it"
   ]
  },
  {
   "cell_type": "code",
   "execution_count": null,
   "metadata": {
    "ExecuteTime": {
     "end_time": "2019-06-07T00:01:36.945520Z",
     "start_time": "2019-06-07T00:01:36.940524Z"
    }
   },
   "outputs": [],
   "source": [
    "from math import log\n",
    "help(log)"
   ]
  },
  {
   "cell_type": "code",
   "execution_count": null,
   "metadata": {
    "ExecuteTime": {
     "end_time": "2019-06-07T00:02:04.172699Z",
     "start_time": "2019-06-07T00:02:01.150523Z"
    }
   },
   "outputs": [],
   "source": [
    "from nltk.stem.snowball import SnowballStemmer\n",
    "help(SnowballStemmer)"
   ]
  },
  {
   "cell_type": "markdown",
   "metadata": {},
   "source": [
    "### We can also access those on the fly..."
   ]
  },
  {
   "cell_type": "code",
   "execution_count": null,
   "metadata": {
    "ExecuteTime": {
     "end_time": "2019-06-06T23:41:26.121823Z",
     "start_time": "2019-06-06T23:41:26.106831Z"
    }
   },
   "outputs": [],
   "source": [
    "SnowballStemmer()"
   ]
  },
  {
   "cell_type": "markdown",
   "metadata": {},
   "source": [
    "### Or use a little magic"
   ]
  },
  {
   "cell_type": "code",
   "execution_count": null,
   "metadata": {
    "ExecuteTime": {
     "end_time": "2019-06-07T00:03:07.188652Z",
     "start_time": "2019-06-07T00:03:07.179659Z"
    }
   },
   "outputs": [],
   "source": [
    "from sklearn.model_selection import train_test_split\n",
    "train_test_split?"
   ]
  },
  {
   "cell_type": "markdown",
   "metadata": {},
   "source": [
    "## Let's explore some data"
   ]
  },
  {
   "cell_type": "code",
   "execution_count": null,
   "metadata": {
    "ExecuteTime": {
     "end_time": "2019-06-07T15:16:30.313439Z",
     "start_time": "2019-06-07T15:16:29.555122Z"
    }
   },
   "outputs": [],
   "source": [
    "import pandas as pd\n",
    "# stops = pd.read_csv('D:\\datasets\\stops.csv', nrows=10000)\n",
    "# traffic = pd.read_csv('D:\\datasets\\Traffic_Violations.csv', nrows=10000)\n",
    "# meteors = pd.read_csv('D:\\datasets\\Meteorite_Landings.csv', nrows=10000)\n",
    "\n",
    "# # Paul, I made pickles because the datasets are pretty big (just what I had lying around.)\n",
    "# stops.to_pickle('stops.pkl')\n",
    "# traffic.to_pickle('traffic.pkl')\n",
    "# meteors.to_pickle('meteors.pkl')\n",
    "\n",
    "# # The pickles can be loaded with\n",
    "stops = pd.read_pickle('stops.pkl')\n",
    "traffic = pd.read_pickle('traffic.pkl')\n",
    "meteors = pd.read_pickle('meteors.pkl')\n",
    "\n",
    "\n",
    "stops.head()"
   ]
  },
  {
   "cell_type": "markdown",
   "metadata": {},
   "source": [
    "That was a lot faster then excel.  How fast?"
   ]
  },
  {
   "cell_type": "code",
   "execution_count": null,
   "metadata": {
    "ExecuteTime": {
     "end_time": "2019-06-07T15:14:25.782063Z",
     "start_time": "2019-06-07T15:14:12.054561Z"
    }
   },
   "outputs": [],
   "source": [
    "%%timeit\n",
    "\n",
    "import pandas as pd\n",
    "stops = pd.read_csv('D:\\datasets\\stops.csv', nrows=10000)\n",
    "traffic = pd.read_csv('D:\\datasets\\Traffic_Violations.csv', nrows=10000)\n",
    "meteors = pd.read_csv('D:\\datasets\\Meteorite_Landings.csv', nrows=10000)\n",
    "\n",
    "stops.head()"
   ]
  },
  {
   "cell_type": "markdown",
   "metadata": {},
   "source": [
    "## I want all my fixes to be quick fixes"
   ]
  },
  {
   "cell_type": "code",
   "execution_count": null,
   "metadata": {
    "ExecuteTime": {
     "end_time": "2019-06-07T00:04:28.335969Z",
     "start_time": "2019-06-07T00:04:28.289990Z"
    }
   },
   "outputs": [],
   "source": [
    "stops = stops.drop('Unnamed: 0', axis=1)\n",
    "stops.head()"
   ]
  },
  {
   "cell_type": "markdown",
   "metadata": {},
   "source": [
    "## We need to go lazier"
   ]
  },
  {
   "cell_type": "code",
   "execution_count": null,
   "metadata": {
    "ExecuteTime": {
     "end_time": "2019-06-07T00:04:36.735628Z",
     "start_time": "2019-06-07T00:04:36.707646Z"
    }
   },
   "outputs": [],
   "source": [
    "stops_less_data = stops[['Reason', 'Driver_Race', 'Driver_Gender', 'Driver_Search',\n",
    "       'Vehicle_Search', 'Citation', 'Driver_Age']]\n",
    "\n",
    "stops_less_data.head(10)"
   ]
  },
  {
   "cell_type": "markdown",
   "metadata": {},
   "source": [
    "## Some simple descriptive statistics"
   ]
  },
  {
   "cell_type": "code",
   "execution_count": null,
   "metadata": {
    "ExecuteTime": {
     "end_time": "2019-06-07T00:04:46.869648Z",
     "start_time": "2019-06-07T00:04:46.779702Z"
    }
   },
   "outputs": [],
   "source": [
    "stops.describe()"
   ]
  },
  {
   "cell_type": "code",
   "execution_count": null,
   "metadata": {
    "ExecuteTime": {
     "end_time": "2019-06-07T00:04:49.524681Z",
     "start_time": "2019-06-07T00:04:49.493699Z"
    }
   },
   "outputs": [],
   "source": [
    "stops.Driver_Gender.value_counts()"
   ]
  },
  {
   "cell_type": "code",
   "execution_count": null,
   "metadata": {
    "ExecuteTime": {
     "end_time": "2019-06-07T00:06:12.824325Z",
     "start_time": "2019-06-07T00:06:12.796343Z"
    }
   },
   "outputs": [],
   "source": [
    "# stops.Driver_Gender.\n",
    "\n",
    "\n",
    "stops.Driver_Gender.rolling?"
   ]
  },
  {
   "cell_type": "markdown",
   "metadata": {},
   "source": [
    "## How about some nice visualizations"
   ]
  },
  {
   "cell_type": "code",
   "execution_count": null,
   "metadata": {
    "ExecuteTime": {
     "end_time": "2019-06-07T00:06:49.274021Z",
     "start_time": "2019-06-07T00:06:45.815098Z"
    }
   },
   "outputs": [],
   "source": [
    "import matplotlib.pyplot as plt\n",
    "%matplotlib inline\n",
    "\n",
    "from pandas.plotting import register_matplotlib_converters\n",
    "register_matplotlib_converters()\n",
    "\n",
    "times = pd.to_datetime(traffic['Date Of Stop'].append(traffic['Time Of Stop']))\n",
    "plt.hist(times.dt.hour);"
   ]
  },
  {
   "cell_type": "markdown",
   "metadata": {},
   "source": [
    "## Modern problems require modern solutions"
   ]
  },
  {
   "cell_type": "code",
   "execution_count": null,
   "metadata": {
    "ExecuteTime": {
     "end_time": "2019-06-07T00:07:12.583272Z",
     "start_time": "2019-06-07T00:07:12.174143Z"
    }
   },
   "outputs": [],
   "source": [
    "plt.hist(times.dt.hour, range=(1,24));"
   ]
  },
  {
   "cell_type": "markdown",
   "metadata": {},
   "source": [
    "## What else can we plot?"
   ]
  },
  {
   "cell_type": "code",
   "execution_count": null,
   "metadata": {
    "ExecuteTime": {
     "end_time": "2019-06-07T00:07:43.692573Z",
     "start_time": "2019-06-07T00:07:43.642604Z"
    }
   },
   "outputs": [],
   "source": [
    "traffic.corr()"
   ]
  },
  {
   "cell_type": "code",
   "execution_count": null,
   "metadata": {
    "ExecuteTime": {
     "end_time": "2019-06-07T00:07:57.798872Z",
     "start_time": "2019-06-07T00:07:56.735185Z"
    }
   },
   "outputs": [],
   "source": [
    "import seaborn as sns\n",
    "sns.heatmap(traffic.corr())"
   ]
  },
  {
   "cell_type": "markdown",
   "metadata": {},
   "source": [
    "### Thanks, I hate it... can we fix it?"
   ]
  },
  {
   "cell_type": "code",
   "execution_count": null,
   "metadata": {
    "ExecuteTime": {
     "end_time": "2019-06-07T00:08:09.012862Z",
     "start_time": "2019-06-07T00:08:08.146564Z"
    }
   },
   "outputs": [],
   "source": [
    "from numpy import triu\n",
    "sns.heatmap(traffic.corr(), cmap='coolwarm', center=0, mask = triu(traffic.corr()))"
   ]
  },
  {
   "cell_type": "markdown",
   "metadata": {},
   "source": [
    "### We always have the tools to fix out problems when we're using python\n",
    "\n",
    "But how do we learn to do that?"
   ]
  },
  {
   "cell_type": "code",
   "execution_count": null,
   "metadata": {
    "ExecuteTime": {
     "end_time": "2019-06-07T00:08:37.013083Z",
     "start_time": "2019-06-07T00:08:36.998083Z"
    }
   },
   "outputs": [],
   "source": [
    "sns.heatmap?"
   ]
  },
  {
   "cell_type": "markdown",
   "metadata": {},
   "source": [
    "## You got any more of them datatypes?"
   ]
  },
  {
   "cell_type": "code",
   "execution_count": null,
   "metadata": {
    "ExecuteTime": {
     "end_time": "2019-06-07T00:08:50.446096Z",
     "start_time": "2019-06-07T00:08:50.405121Z"
    }
   },
   "outputs": [],
   "source": [
    "meteors.head()"
   ]
  },
  {
   "cell_type": "code",
   "execution_count": null,
   "metadata": {
    "ExecuteTime": {
     "end_time": "2019-06-07T00:08:54.715131Z",
     "start_time": "2019-06-07T00:08:54.020485Z"
    }
   },
   "outputs": [],
   "source": [
    "import matplotlib.pyplot as plt\n",
    "X_dimension = meteors['reclong']\n",
    "Y_dimension = meteors['reclat']\n",
    "\n",
    "plt.scatter(X_dimension, Y_dimension)"
   ]
  },
  {
   "cell_type": "markdown",
   "metadata": {},
   "source": [
    "## There are too many tools out there to list them all\n",
    "\n",
    "For example I have nbextensions installed which will effortlessly clean up my code."
   ]
  },
  {
   "cell_type": "code",
   "execution_count": null,
   "metadata": {
    "ExecuteTime": {
     "end_time": "2019-06-07T00:09:15.389735Z",
     "start_time": "2019-06-07T00:09:15.378742Z"
    }
   },
   "outputs": [],
   "source": [
    "print(*(lambda i: [(yield ('Fizzbuzz\\n' if x % 15 == 0 else 'Fizz' if x % 3 ==\n",
    "                           0 else 'Buzz ; ' if x % 5 == 0 else x)) for x in range(1, i)]).__call__(100))"
   ]
  },
  {
   "cell_type": "markdown",
   "metadata": {},
   "source": [
    "... ok maybe it wont clean it up that much.  At the end of the day remember that you have a job to do and the computer wont do that job for you.\n",
    "\n",
    "### I'll leave you with this"
   ]
  },
  {
   "cell_type": "code",
   "execution_count": null,
   "metadata": {
    "ExecuteTime": {
     "end_time": "2019-06-07T00:09:47.072698Z",
     "start_time": "2019-06-07T00:09:47.060703Z"
    }
   },
   "outputs": [],
   "source": [
    "import this"
   ]
  }
 ],
 "metadata": {
  "kernelspec": {
   "display_name": "Python 3",
   "language": "python",
   "name": "python3"
  },
  "language_info": {
   "codemirror_mode": {
    "name": "ipython",
    "version": 3
   },
   "file_extension": ".py",
   "mimetype": "text/x-python",
   "name": "python",
   "nbconvert_exporter": "python",
   "pygments_lexer": "ipython3",
   "version": "3.7.3"
  },
  "varInspector": {
   "cols": {
    "lenName": 16,
    "lenType": 16,
    "lenVar": 40
   },
   "kernels_config": {
    "python": {
     "delete_cmd_postfix": "",
     "delete_cmd_prefix": "del ",
     "library": "var_list.py",
     "varRefreshCmd": "print(var_dic_list())"
    },
    "r": {
     "delete_cmd_postfix": ") ",
     "delete_cmd_prefix": "rm(",
     "library": "var_list.r",
     "varRefreshCmd": "cat(var_dic_list()) "
    }
   },
   "types_to_exclude": [
    "module",
    "function",
    "builtin_function_or_method",
    "instance",
    "_Feature"
   ],
   "window_display": false
  }
 },
 "nbformat": 4,
 "nbformat_minor": 2
}
